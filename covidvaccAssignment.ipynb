{
  "nbformat": 4,
  "nbformat_minor": 0,
  "metadata": {
    "colab": {
      "name": "covidvaccAssignment",
      "provenance": [],
      "collapsed_sections": [],
      "authorship_tag": "ABX9TyOodTPEZcK+E+qommepRqDN",
      "include_colab_link": true
    },
    "kernelspec": {
      "name": "python3",
      "display_name": "Python 3"
    },
    "language_info": {
      "name": "python"
    }
  },
  "cells": [
    {
      "cell_type": "markdown",
      "metadata": {
        "id": "view-in-github",
        "colab_type": "text"
      },
      "source": [
        "<a href=\"https://colab.research.google.com/github/KuNNaL2412/KuNNaL2412/blob/main/covidvaccAssignment.ipynb\" target=\"_parent\"><img src=\"https://colab.research.google.com/assets/colab-badge.svg\" alt=\"Open In Colab\"/></a>"
      ]
    },
    {
      "cell_type": "code",
      "execution_count": 17,
      "metadata": {
        "id": "alOXBIGyekPA"
      },
      "outputs": [],
      "source": [
        "import pandas as pd\n",
        "import numpy as np"
      ]
    },
    {
      "cell_type": "code",
      "source": [
        "df = pd.read_csv(\"/content/country_vaccinations.csv\")\n"
      ],
      "metadata": {
        "id": "2-YLYvBNfqqw"
      },
      "execution_count": 18,
      "outputs": []
    },
    {
      "cell_type": "code",
      "source": [
        "df"
      ],
      "metadata": {
        "colab": {
          "base_uri": "https://localhost:8080/",
          "height": 748
        },
        "id": "xFMo9BqOf8qi",
        "outputId": "eab68e9c-0cf4-4d22-c545-2f64e83b4b57"
      },
      "execution_count": 19,
      "outputs": [
        {
          "output_type": "execute_result",
          "data": {
            "text/plain": [
              "           country iso_code        date  total_vaccinations  \\\n",
              "0      Afghanistan      AFG  2021-02-22                 0.0   \n",
              "1      Afghanistan      AFG  2021-02-23                 NaN   \n",
              "2      Afghanistan      AFG  2021-02-24                 NaN   \n",
              "3      Afghanistan      AFG  2021-02-25                 NaN   \n",
              "4      Afghanistan      AFG  2021-02-26                 NaN   \n",
              "...            ...      ...         ...                 ...   \n",
              "15500     Zimbabwe      ZWE  2021-04-30            500342.0   \n",
              "15501     Zimbabwe      ZWE  2021-05-01            520299.0   \n",
              "15502     Zimbabwe      ZWE  2021-05-02            524199.0   \n",
              "15503     Zimbabwe      ZWE  2021-05-03            537516.0   \n",
              "15504     Zimbabwe      ZWE  2021-05-04            559777.0   \n",
              "\n",
              "       people_vaccinated  people_fully_vaccinated  daily_vaccinations_raw  \\\n",
              "0                    0.0                      NaN                     NaN   \n",
              "1                    NaN                      NaN                     NaN   \n",
              "2                    NaN                      NaN                     NaN   \n",
              "3                    NaN                      NaN                     NaN   \n",
              "4                    NaN                      NaN                     NaN   \n",
              "...                  ...                      ...                     ...   \n",
              "15500           414735.0                  85607.0                 22745.0   \n",
              "15501           428135.0                  92164.0                 19957.0   \n",
              "15502           430068.0                  94131.0                  3900.0   \n",
              "15503           437751.0                  99765.0                 13317.0   \n",
              "15504           452191.0                 107586.0                 22261.0   \n",
              "\n",
              "       daily_vaccinations  total_vaccinations_per_hundred  \\\n",
              "0                     NaN                            0.00   \n",
              "1                  1367.0                             NaN   \n",
              "2                  1367.0                             NaN   \n",
              "3                  1367.0                             NaN   \n",
              "4                  1367.0                             NaN   \n",
              "...                   ...                             ...   \n",
              "15500             19194.0                            3.37   \n",
              "15501             21171.0                            3.50   \n",
              "15502             19169.0                            3.53   \n",
              "15503             17987.0                            3.62   \n",
              "15504             17977.0                            3.77   \n",
              "\n",
              "       people_vaccinated_per_hundred  people_fully_vaccinated_per_hundred  \\\n",
              "0                               0.00                                  NaN   \n",
              "1                                NaN                                  NaN   \n",
              "2                                NaN                                  NaN   \n",
              "3                                NaN                                  NaN   \n",
              "4                                NaN                                  NaN   \n",
              "...                              ...                                  ...   \n",
              "15500                           2.79                                 0.58   \n",
              "15501                           2.88                                 0.62   \n",
              "15502                           2.89                                 0.63   \n",
              "15503                           2.95                                 0.67   \n",
              "15504                           3.04                                 0.72   \n",
              "\n",
              "       daily_vaccinations_per_million            vaccines  \\\n",
              "0                                 NaN  Oxford/AstraZeneca   \n",
              "1                                35.0  Oxford/AstraZeneca   \n",
              "2                                35.0  Oxford/AstraZeneca   \n",
              "3                                35.0  Oxford/AstraZeneca   \n",
              "4                                35.0  Oxford/AstraZeneca   \n",
              "...                               ...                 ...   \n",
              "15500                          1291.0   Sinopharm/Beijing   \n",
              "15501                          1424.0   Sinopharm/Beijing   \n",
              "15502                          1290.0   Sinopharm/Beijing   \n",
              "15503                          1210.0   Sinopharm/Beijing   \n",
              "15504                          1210.0   Sinopharm/Beijing   \n",
              "\n",
              "                     source_name  \\\n",
              "0      Government of Afghanistan   \n",
              "1      Government of Afghanistan   \n",
              "2      Government of Afghanistan   \n",
              "3      Government of Afghanistan   \n",
              "4      Government of Afghanistan   \n",
              "...                          ...   \n",
              "15500         Ministry of Health   \n",
              "15501         Ministry of Health   \n",
              "15502         Ministry of Health   \n",
              "15503         Ministry of Health   \n",
              "15504         Ministry of Health   \n",
              "\n",
              "                                          source_website  \n",
              "0      https://reliefweb.int/report/afghanistan/afgha...  \n",
              "1      https://reliefweb.int/report/afghanistan/afgha...  \n",
              "2      https://reliefweb.int/report/afghanistan/afgha...  \n",
              "3      https://reliefweb.int/report/afghanistan/afgha...  \n",
              "4      https://reliefweb.int/report/afghanistan/afgha...  \n",
              "...                                                  ...  \n",
              "15500  https://twitter.com/MoHCCZim/status/1389675251...  \n",
              "15501  https://twitter.com/MoHCCZim/status/1389675251...  \n",
              "15502  https://twitter.com/MoHCCZim/status/1389675251...  \n",
              "15503  https://twitter.com/MoHCCZim/status/1389675251...  \n",
              "15504  https://twitter.com/MoHCCZim/status/1389675251...  \n",
              "\n",
              "[15505 rows x 15 columns]"
            ],
            "text/html": [
              "\n",
              "  <div id=\"df-c60af3cb-a87f-4336-8b33-53a4efa3d09f\">\n",
              "    <div class=\"colab-df-container\">\n",
              "      <div>\n",
              "<style scoped>\n",
              "    .dataframe tbody tr th:only-of-type {\n",
              "        vertical-align: middle;\n",
              "    }\n",
              "\n",
              "    .dataframe tbody tr th {\n",
              "        vertical-align: top;\n",
              "    }\n",
              "\n",
              "    .dataframe thead th {\n",
              "        text-align: right;\n",
              "    }\n",
              "</style>\n",
              "<table border=\"1\" class=\"dataframe\">\n",
              "  <thead>\n",
              "    <tr style=\"text-align: right;\">\n",
              "      <th></th>\n",
              "      <th>country</th>\n",
              "      <th>iso_code</th>\n",
              "      <th>date</th>\n",
              "      <th>total_vaccinations</th>\n",
              "      <th>people_vaccinated</th>\n",
              "      <th>people_fully_vaccinated</th>\n",
              "      <th>daily_vaccinations_raw</th>\n",
              "      <th>daily_vaccinations</th>\n",
              "      <th>total_vaccinations_per_hundred</th>\n",
              "      <th>people_vaccinated_per_hundred</th>\n",
              "      <th>people_fully_vaccinated_per_hundred</th>\n",
              "      <th>daily_vaccinations_per_million</th>\n",
              "      <th>vaccines</th>\n",
              "      <th>source_name</th>\n",
              "      <th>source_website</th>\n",
              "    </tr>\n",
              "  </thead>\n",
              "  <tbody>\n",
              "    <tr>\n",
              "      <th>0</th>\n",
              "      <td>Afghanistan</td>\n",
              "      <td>AFG</td>\n",
              "      <td>2021-02-22</td>\n",
              "      <td>0.0</td>\n",
              "      <td>0.0</td>\n",
              "      <td>NaN</td>\n",
              "      <td>NaN</td>\n",
              "      <td>NaN</td>\n",
              "      <td>0.00</td>\n",
              "      <td>0.00</td>\n",
              "      <td>NaN</td>\n",
              "      <td>NaN</td>\n",
              "      <td>Oxford/AstraZeneca</td>\n",
              "      <td>Government of Afghanistan</td>\n",
              "      <td>https://reliefweb.int/report/afghanistan/afgha...</td>\n",
              "    </tr>\n",
              "    <tr>\n",
              "      <th>1</th>\n",
              "      <td>Afghanistan</td>\n",
              "      <td>AFG</td>\n",
              "      <td>2021-02-23</td>\n",
              "      <td>NaN</td>\n",
              "      <td>NaN</td>\n",
              "      <td>NaN</td>\n",
              "      <td>NaN</td>\n",
              "      <td>1367.0</td>\n",
              "      <td>NaN</td>\n",
              "      <td>NaN</td>\n",
              "      <td>NaN</td>\n",
              "      <td>35.0</td>\n",
              "      <td>Oxford/AstraZeneca</td>\n",
              "      <td>Government of Afghanistan</td>\n",
              "      <td>https://reliefweb.int/report/afghanistan/afgha...</td>\n",
              "    </tr>\n",
              "    <tr>\n",
              "      <th>2</th>\n",
              "      <td>Afghanistan</td>\n",
              "      <td>AFG</td>\n",
              "      <td>2021-02-24</td>\n",
              "      <td>NaN</td>\n",
              "      <td>NaN</td>\n",
              "      <td>NaN</td>\n",
              "      <td>NaN</td>\n",
              "      <td>1367.0</td>\n",
              "      <td>NaN</td>\n",
              "      <td>NaN</td>\n",
              "      <td>NaN</td>\n",
              "      <td>35.0</td>\n",
              "      <td>Oxford/AstraZeneca</td>\n",
              "      <td>Government of Afghanistan</td>\n",
              "      <td>https://reliefweb.int/report/afghanistan/afgha...</td>\n",
              "    </tr>\n",
              "    <tr>\n",
              "      <th>3</th>\n",
              "      <td>Afghanistan</td>\n",
              "      <td>AFG</td>\n",
              "      <td>2021-02-25</td>\n",
              "      <td>NaN</td>\n",
              "      <td>NaN</td>\n",
              "      <td>NaN</td>\n",
              "      <td>NaN</td>\n",
              "      <td>1367.0</td>\n",
              "      <td>NaN</td>\n",
              "      <td>NaN</td>\n",
              "      <td>NaN</td>\n",
              "      <td>35.0</td>\n",
              "      <td>Oxford/AstraZeneca</td>\n",
              "      <td>Government of Afghanistan</td>\n",
              "      <td>https://reliefweb.int/report/afghanistan/afgha...</td>\n",
              "    </tr>\n",
              "    <tr>\n",
              "      <th>4</th>\n",
              "      <td>Afghanistan</td>\n",
              "      <td>AFG</td>\n",
              "      <td>2021-02-26</td>\n",
              "      <td>NaN</td>\n",
              "      <td>NaN</td>\n",
              "      <td>NaN</td>\n",
              "      <td>NaN</td>\n",
              "      <td>1367.0</td>\n",
              "      <td>NaN</td>\n",
              "      <td>NaN</td>\n",
              "      <td>NaN</td>\n",
              "      <td>35.0</td>\n",
              "      <td>Oxford/AstraZeneca</td>\n",
              "      <td>Government of Afghanistan</td>\n",
              "      <td>https://reliefweb.int/report/afghanistan/afgha...</td>\n",
              "    </tr>\n",
              "    <tr>\n",
              "      <th>...</th>\n",
              "      <td>...</td>\n",
              "      <td>...</td>\n",
              "      <td>...</td>\n",
              "      <td>...</td>\n",
              "      <td>...</td>\n",
              "      <td>...</td>\n",
              "      <td>...</td>\n",
              "      <td>...</td>\n",
              "      <td>...</td>\n",
              "      <td>...</td>\n",
              "      <td>...</td>\n",
              "      <td>...</td>\n",
              "      <td>...</td>\n",
              "      <td>...</td>\n",
              "      <td>...</td>\n",
              "    </tr>\n",
              "    <tr>\n",
              "      <th>15500</th>\n",
              "      <td>Zimbabwe</td>\n",
              "      <td>ZWE</td>\n",
              "      <td>2021-04-30</td>\n",
              "      <td>500342.0</td>\n",
              "      <td>414735.0</td>\n",
              "      <td>85607.0</td>\n",
              "      <td>22745.0</td>\n",
              "      <td>19194.0</td>\n",
              "      <td>3.37</td>\n",
              "      <td>2.79</td>\n",
              "      <td>0.58</td>\n",
              "      <td>1291.0</td>\n",
              "      <td>Sinopharm/Beijing</td>\n",
              "      <td>Ministry of Health</td>\n",
              "      <td>https://twitter.com/MoHCCZim/status/1389675251...</td>\n",
              "    </tr>\n",
              "    <tr>\n",
              "      <th>15501</th>\n",
              "      <td>Zimbabwe</td>\n",
              "      <td>ZWE</td>\n",
              "      <td>2021-05-01</td>\n",
              "      <td>520299.0</td>\n",
              "      <td>428135.0</td>\n",
              "      <td>92164.0</td>\n",
              "      <td>19957.0</td>\n",
              "      <td>21171.0</td>\n",
              "      <td>3.50</td>\n",
              "      <td>2.88</td>\n",
              "      <td>0.62</td>\n",
              "      <td>1424.0</td>\n",
              "      <td>Sinopharm/Beijing</td>\n",
              "      <td>Ministry of Health</td>\n",
              "      <td>https://twitter.com/MoHCCZim/status/1389675251...</td>\n",
              "    </tr>\n",
              "    <tr>\n",
              "      <th>15502</th>\n",
              "      <td>Zimbabwe</td>\n",
              "      <td>ZWE</td>\n",
              "      <td>2021-05-02</td>\n",
              "      <td>524199.0</td>\n",
              "      <td>430068.0</td>\n",
              "      <td>94131.0</td>\n",
              "      <td>3900.0</td>\n",
              "      <td>19169.0</td>\n",
              "      <td>3.53</td>\n",
              "      <td>2.89</td>\n",
              "      <td>0.63</td>\n",
              "      <td>1290.0</td>\n",
              "      <td>Sinopharm/Beijing</td>\n",
              "      <td>Ministry of Health</td>\n",
              "      <td>https://twitter.com/MoHCCZim/status/1389675251...</td>\n",
              "    </tr>\n",
              "    <tr>\n",
              "      <th>15503</th>\n",
              "      <td>Zimbabwe</td>\n",
              "      <td>ZWE</td>\n",
              "      <td>2021-05-03</td>\n",
              "      <td>537516.0</td>\n",
              "      <td>437751.0</td>\n",
              "      <td>99765.0</td>\n",
              "      <td>13317.0</td>\n",
              "      <td>17987.0</td>\n",
              "      <td>3.62</td>\n",
              "      <td>2.95</td>\n",
              "      <td>0.67</td>\n",
              "      <td>1210.0</td>\n",
              "      <td>Sinopharm/Beijing</td>\n",
              "      <td>Ministry of Health</td>\n",
              "      <td>https://twitter.com/MoHCCZim/status/1389675251...</td>\n",
              "    </tr>\n",
              "    <tr>\n",
              "      <th>15504</th>\n",
              "      <td>Zimbabwe</td>\n",
              "      <td>ZWE</td>\n",
              "      <td>2021-05-04</td>\n",
              "      <td>559777.0</td>\n",
              "      <td>452191.0</td>\n",
              "      <td>107586.0</td>\n",
              "      <td>22261.0</td>\n",
              "      <td>17977.0</td>\n",
              "      <td>3.77</td>\n",
              "      <td>3.04</td>\n",
              "      <td>0.72</td>\n",
              "      <td>1210.0</td>\n",
              "      <td>Sinopharm/Beijing</td>\n",
              "      <td>Ministry of Health</td>\n",
              "      <td>https://twitter.com/MoHCCZim/status/1389675251...</td>\n",
              "    </tr>\n",
              "  </tbody>\n",
              "</table>\n",
              "<p>15505 rows × 15 columns</p>\n",
              "</div>\n",
              "      <button class=\"colab-df-convert\" onclick=\"convertToInteractive('df-c60af3cb-a87f-4336-8b33-53a4efa3d09f')\"\n",
              "              title=\"Convert this dataframe to an interactive table.\"\n",
              "              style=\"display:none;\">\n",
              "        \n",
              "  <svg xmlns=\"http://www.w3.org/2000/svg\" height=\"24px\"viewBox=\"0 0 24 24\"\n",
              "       width=\"24px\">\n",
              "    <path d=\"M0 0h24v24H0V0z\" fill=\"none\"/>\n",
              "    <path d=\"M18.56 5.44l.94 2.06.94-2.06 2.06-.94-2.06-.94-.94-2.06-.94 2.06-2.06.94zm-11 1L8.5 8.5l.94-2.06 2.06-.94-2.06-.94L8.5 2.5l-.94 2.06-2.06.94zm10 10l.94 2.06.94-2.06 2.06-.94-2.06-.94-.94-2.06-.94 2.06-2.06.94z\"/><path d=\"M17.41 7.96l-1.37-1.37c-.4-.4-.92-.59-1.43-.59-.52 0-1.04.2-1.43.59L10.3 9.45l-7.72 7.72c-.78.78-.78 2.05 0 2.83L4 21.41c.39.39.9.59 1.41.59.51 0 1.02-.2 1.41-.59l7.78-7.78 2.81-2.81c.8-.78.8-2.07 0-2.86zM5.41 20L4 18.59l7.72-7.72 1.47 1.35L5.41 20z\"/>\n",
              "  </svg>\n",
              "      </button>\n",
              "      \n",
              "  <style>\n",
              "    .colab-df-container {\n",
              "      display:flex;\n",
              "      flex-wrap:wrap;\n",
              "      gap: 12px;\n",
              "    }\n",
              "\n",
              "    .colab-df-convert {\n",
              "      background-color: #E8F0FE;\n",
              "      border: none;\n",
              "      border-radius: 50%;\n",
              "      cursor: pointer;\n",
              "      display: none;\n",
              "      fill: #1967D2;\n",
              "      height: 32px;\n",
              "      padding: 0 0 0 0;\n",
              "      width: 32px;\n",
              "    }\n",
              "\n",
              "    .colab-df-convert:hover {\n",
              "      background-color: #E2EBFA;\n",
              "      box-shadow: 0px 1px 2px rgba(60, 64, 67, 0.3), 0px 1px 3px 1px rgba(60, 64, 67, 0.15);\n",
              "      fill: #174EA6;\n",
              "    }\n",
              "\n",
              "    [theme=dark] .colab-df-convert {\n",
              "      background-color: #3B4455;\n",
              "      fill: #D2E3FC;\n",
              "    }\n",
              "\n",
              "    [theme=dark] .colab-df-convert:hover {\n",
              "      background-color: #434B5C;\n",
              "      box-shadow: 0px 1px 3px 1px rgba(0, 0, 0, 0.15);\n",
              "      filter: drop-shadow(0px 1px 2px rgba(0, 0, 0, 0.3));\n",
              "      fill: #FFFFFF;\n",
              "    }\n",
              "  </style>\n",
              "\n",
              "      <script>\n",
              "        const buttonEl =\n",
              "          document.querySelector('#df-c60af3cb-a87f-4336-8b33-53a4efa3d09f button.colab-df-convert');\n",
              "        buttonEl.style.display =\n",
              "          google.colab.kernel.accessAllowed ? 'block' : 'none';\n",
              "\n",
              "        async function convertToInteractive(key) {\n",
              "          const element = document.querySelector('#df-c60af3cb-a87f-4336-8b33-53a4efa3d09f');\n",
              "          const dataTable =\n",
              "            await google.colab.kernel.invokeFunction('convertToInteractive',\n",
              "                                                     [key], {});\n",
              "          if (!dataTable) return;\n",
              "\n",
              "          const docLinkHtml = 'Like what you see? Visit the ' +\n",
              "            '<a target=\"_blank\" href=https://colab.research.google.com/notebooks/data_table.ipynb>data table notebook</a>'\n",
              "            + ' to learn more about interactive tables.';\n",
              "          element.innerHTML = '';\n",
              "          dataTable['output_type'] = 'display_data';\n",
              "          await google.colab.output.renderOutput(dataTable, element);\n",
              "          const docLink = document.createElement('div');\n",
              "          docLink.innerHTML = docLinkHtml;\n",
              "          element.appendChild(docLink);\n",
              "        }\n",
              "      </script>\n",
              "    </div>\n",
              "  </div>\n",
              "  "
            ]
          },
          "metadata": {},
          "execution_count": 19
        }
      ]
    },
    {
      "cell_type": "code",
      "source": [
        "df = df.fillna(0)"
      ],
      "metadata": {
        "id": "50MR6JXCf_dA"
      },
      "execution_count": 20,
      "outputs": []
    },
    {
      "cell_type": "code",
      "source": [
        "df"
      ],
      "metadata": {
        "colab": {
          "base_uri": "https://localhost:8080/",
          "height": 805
        },
        "id": "C4hFoz2zgCHY",
        "outputId": "0ab3e65d-180e-4458-e51c-f3bcc86e4dfd"
      },
      "execution_count": 21,
      "outputs": [
        {
          "output_type": "execute_result",
          "data": {
            "text/plain": [
              "           country iso_code        date  total_vaccinations  \\\n",
              "0      Afghanistan      AFG  2021-02-22                 0.0   \n",
              "1      Afghanistan      AFG  2021-02-23                 0.0   \n",
              "2      Afghanistan      AFG  2021-02-24                 0.0   \n",
              "3      Afghanistan      AFG  2021-02-25                 0.0   \n",
              "4      Afghanistan      AFG  2021-02-26                 0.0   \n",
              "...            ...      ...         ...                 ...   \n",
              "15500     Zimbabwe      ZWE  2021-04-30            500342.0   \n",
              "15501     Zimbabwe      ZWE  2021-05-01            520299.0   \n",
              "15502     Zimbabwe      ZWE  2021-05-02            524199.0   \n",
              "15503     Zimbabwe      ZWE  2021-05-03            537516.0   \n",
              "15504     Zimbabwe      ZWE  2021-05-04            559777.0   \n",
              "\n",
              "       people_vaccinated  people_fully_vaccinated  daily_vaccinations_raw  \\\n",
              "0                    0.0                      0.0                     0.0   \n",
              "1                    0.0                      0.0                     0.0   \n",
              "2                    0.0                      0.0                     0.0   \n",
              "3                    0.0                      0.0                     0.0   \n",
              "4                    0.0                      0.0                     0.0   \n",
              "...                  ...                      ...                     ...   \n",
              "15500           414735.0                  85607.0                 22745.0   \n",
              "15501           428135.0                  92164.0                 19957.0   \n",
              "15502           430068.0                  94131.0                  3900.0   \n",
              "15503           437751.0                  99765.0                 13317.0   \n",
              "15504           452191.0                 107586.0                 22261.0   \n",
              "\n",
              "       daily_vaccinations  total_vaccinations_per_hundred  \\\n",
              "0                     0.0                            0.00   \n",
              "1                  1367.0                            0.00   \n",
              "2                  1367.0                            0.00   \n",
              "3                  1367.0                            0.00   \n",
              "4                  1367.0                            0.00   \n",
              "...                   ...                             ...   \n",
              "15500             19194.0                            3.37   \n",
              "15501             21171.0                            3.50   \n",
              "15502             19169.0                            3.53   \n",
              "15503             17987.0                            3.62   \n",
              "15504             17977.0                            3.77   \n",
              "\n",
              "       people_vaccinated_per_hundred  people_fully_vaccinated_per_hundred  \\\n",
              "0                               0.00                                 0.00   \n",
              "1                               0.00                                 0.00   \n",
              "2                               0.00                                 0.00   \n",
              "3                               0.00                                 0.00   \n",
              "4                               0.00                                 0.00   \n",
              "...                              ...                                  ...   \n",
              "15500                           2.79                                 0.58   \n",
              "15501                           2.88                                 0.62   \n",
              "15502                           2.89                                 0.63   \n",
              "15503                           2.95                                 0.67   \n",
              "15504                           3.04                                 0.72   \n",
              "\n",
              "       daily_vaccinations_per_million            vaccines  \\\n",
              "0                                 0.0  Oxford/AstraZeneca   \n",
              "1                                35.0  Oxford/AstraZeneca   \n",
              "2                                35.0  Oxford/AstraZeneca   \n",
              "3                                35.0  Oxford/AstraZeneca   \n",
              "4                                35.0  Oxford/AstraZeneca   \n",
              "...                               ...                 ...   \n",
              "15500                          1291.0   Sinopharm/Beijing   \n",
              "15501                          1424.0   Sinopharm/Beijing   \n",
              "15502                          1290.0   Sinopharm/Beijing   \n",
              "15503                          1210.0   Sinopharm/Beijing   \n",
              "15504                          1210.0   Sinopharm/Beijing   \n",
              "\n",
              "                     source_name  \\\n",
              "0      Government of Afghanistan   \n",
              "1      Government of Afghanistan   \n",
              "2      Government of Afghanistan   \n",
              "3      Government of Afghanistan   \n",
              "4      Government of Afghanistan   \n",
              "...                          ...   \n",
              "15500         Ministry of Health   \n",
              "15501         Ministry of Health   \n",
              "15502         Ministry of Health   \n",
              "15503         Ministry of Health   \n",
              "15504         Ministry of Health   \n",
              "\n",
              "                                          source_website  \n",
              "0      https://reliefweb.int/report/afghanistan/afgha...  \n",
              "1      https://reliefweb.int/report/afghanistan/afgha...  \n",
              "2      https://reliefweb.int/report/afghanistan/afgha...  \n",
              "3      https://reliefweb.int/report/afghanistan/afgha...  \n",
              "4      https://reliefweb.int/report/afghanistan/afgha...  \n",
              "...                                                  ...  \n",
              "15500  https://twitter.com/MoHCCZim/status/1389675251...  \n",
              "15501  https://twitter.com/MoHCCZim/status/1389675251...  \n",
              "15502  https://twitter.com/MoHCCZim/status/1389675251...  \n",
              "15503  https://twitter.com/MoHCCZim/status/1389675251...  \n",
              "15504  https://twitter.com/MoHCCZim/status/1389675251...  \n",
              "\n",
              "[15505 rows x 15 columns]"
            ],
            "text/html": [
              "\n",
              "  <div id=\"df-3d1cc262-1d20-4d61-9e13-c44810852b25\">\n",
              "    <div class=\"colab-df-container\">\n",
              "      <div>\n",
              "<style scoped>\n",
              "    .dataframe tbody tr th:only-of-type {\n",
              "        vertical-align: middle;\n",
              "    }\n",
              "\n",
              "    .dataframe tbody tr th {\n",
              "        vertical-align: top;\n",
              "    }\n",
              "\n",
              "    .dataframe thead th {\n",
              "        text-align: right;\n",
              "    }\n",
              "</style>\n",
              "<table border=\"1\" class=\"dataframe\">\n",
              "  <thead>\n",
              "    <tr style=\"text-align: right;\">\n",
              "      <th></th>\n",
              "      <th>country</th>\n",
              "      <th>iso_code</th>\n",
              "      <th>date</th>\n",
              "      <th>total_vaccinations</th>\n",
              "      <th>people_vaccinated</th>\n",
              "      <th>people_fully_vaccinated</th>\n",
              "      <th>daily_vaccinations_raw</th>\n",
              "      <th>daily_vaccinations</th>\n",
              "      <th>total_vaccinations_per_hundred</th>\n",
              "      <th>people_vaccinated_per_hundred</th>\n",
              "      <th>people_fully_vaccinated_per_hundred</th>\n",
              "      <th>daily_vaccinations_per_million</th>\n",
              "      <th>vaccines</th>\n",
              "      <th>source_name</th>\n",
              "      <th>source_website</th>\n",
              "    </tr>\n",
              "  </thead>\n",
              "  <tbody>\n",
              "    <tr>\n",
              "      <th>0</th>\n",
              "      <td>Afghanistan</td>\n",
              "      <td>AFG</td>\n",
              "      <td>2021-02-22</td>\n",
              "      <td>0.0</td>\n",
              "      <td>0.0</td>\n",
              "      <td>0.0</td>\n",
              "      <td>0.0</td>\n",
              "      <td>0.0</td>\n",
              "      <td>0.00</td>\n",
              "      <td>0.00</td>\n",
              "      <td>0.00</td>\n",
              "      <td>0.0</td>\n",
              "      <td>Oxford/AstraZeneca</td>\n",
              "      <td>Government of Afghanistan</td>\n",
              "      <td>https://reliefweb.int/report/afghanistan/afgha...</td>\n",
              "    </tr>\n",
              "    <tr>\n",
              "      <th>1</th>\n",
              "      <td>Afghanistan</td>\n",
              "      <td>AFG</td>\n",
              "      <td>2021-02-23</td>\n",
              "      <td>0.0</td>\n",
              "      <td>0.0</td>\n",
              "      <td>0.0</td>\n",
              "      <td>0.0</td>\n",
              "      <td>1367.0</td>\n",
              "      <td>0.00</td>\n",
              "      <td>0.00</td>\n",
              "      <td>0.00</td>\n",
              "      <td>35.0</td>\n",
              "      <td>Oxford/AstraZeneca</td>\n",
              "      <td>Government of Afghanistan</td>\n",
              "      <td>https://reliefweb.int/report/afghanistan/afgha...</td>\n",
              "    </tr>\n",
              "    <tr>\n",
              "      <th>2</th>\n",
              "      <td>Afghanistan</td>\n",
              "      <td>AFG</td>\n",
              "      <td>2021-02-24</td>\n",
              "      <td>0.0</td>\n",
              "      <td>0.0</td>\n",
              "      <td>0.0</td>\n",
              "      <td>0.0</td>\n",
              "      <td>1367.0</td>\n",
              "      <td>0.00</td>\n",
              "      <td>0.00</td>\n",
              "      <td>0.00</td>\n",
              "      <td>35.0</td>\n",
              "      <td>Oxford/AstraZeneca</td>\n",
              "      <td>Government of Afghanistan</td>\n",
              "      <td>https://reliefweb.int/report/afghanistan/afgha...</td>\n",
              "    </tr>\n",
              "    <tr>\n",
              "      <th>3</th>\n",
              "      <td>Afghanistan</td>\n",
              "      <td>AFG</td>\n",
              "      <td>2021-02-25</td>\n",
              "      <td>0.0</td>\n",
              "      <td>0.0</td>\n",
              "      <td>0.0</td>\n",
              "      <td>0.0</td>\n",
              "      <td>1367.0</td>\n",
              "      <td>0.00</td>\n",
              "      <td>0.00</td>\n",
              "      <td>0.00</td>\n",
              "      <td>35.0</td>\n",
              "      <td>Oxford/AstraZeneca</td>\n",
              "      <td>Government of Afghanistan</td>\n",
              "      <td>https://reliefweb.int/report/afghanistan/afgha...</td>\n",
              "    </tr>\n",
              "    <tr>\n",
              "      <th>4</th>\n",
              "      <td>Afghanistan</td>\n",
              "      <td>AFG</td>\n",
              "      <td>2021-02-26</td>\n",
              "      <td>0.0</td>\n",
              "      <td>0.0</td>\n",
              "      <td>0.0</td>\n",
              "      <td>0.0</td>\n",
              "      <td>1367.0</td>\n",
              "      <td>0.00</td>\n",
              "      <td>0.00</td>\n",
              "      <td>0.00</td>\n",
              "      <td>35.0</td>\n",
              "      <td>Oxford/AstraZeneca</td>\n",
              "      <td>Government of Afghanistan</td>\n",
              "      <td>https://reliefweb.int/report/afghanistan/afgha...</td>\n",
              "    </tr>\n",
              "    <tr>\n",
              "      <th>...</th>\n",
              "      <td>...</td>\n",
              "      <td>...</td>\n",
              "      <td>...</td>\n",
              "      <td>...</td>\n",
              "      <td>...</td>\n",
              "      <td>...</td>\n",
              "      <td>...</td>\n",
              "      <td>...</td>\n",
              "      <td>...</td>\n",
              "      <td>...</td>\n",
              "      <td>...</td>\n",
              "      <td>...</td>\n",
              "      <td>...</td>\n",
              "      <td>...</td>\n",
              "      <td>...</td>\n",
              "    </tr>\n",
              "    <tr>\n",
              "      <th>15500</th>\n",
              "      <td>Zimbabwe</td>\n",
              "      <td>ZWE</td>\n",
              "      <td>2021-04-30</td>\n",
              "      <td>500342.0</td>\n",
              "      <td>414735.0</td>\n",
              "      <td>85607.0</td>\n",
              "      <td>22745.0</td>\n",
              "      <td>19194.0</td>\n",
              "      <td>3.37</td>\n",
              "      <td>2.79</td>\n",
              "      <td>0.58</td>\n",
              "      <td>1291.0</td>\n",
              "      <td>Sinopharm/Beijing</td>\n",
              "      <td>Ministry of Health</td>\n",
              "      <td>https://twitter.com/MoHCCZim/status/1389675251...</td>\n",
              "    </tr>\n",
              "    <tr>\n",
              "      <th>15501</th>\n",
              "      <td>Zimbabwe</td>\n",
              "      <td>ZWE</td>\n",
              "      <td>2021-05-01</td>\n",
              "      <td>520299.0</td>\n",
              "      <td>428135.0</td>\n",
              "      <td>92164.0</td>\n",
              "      <td>19957.0</td>\n",
              "      <td>21171.0</td>\n",
              "      <td>3.50</td>\n",
              "      <td>2.88</td>\n",
              "      <td>0.62</td>\n",
              "      <td>1424.0</td>\n",
              "      <td>Sinopharm/Beijing</td>\n",
              "      <td>Ministry of Health</td>\n",
              "      <td>https://twitter.com/MoHCCZim/status/1389675251...</td>\n",
              "    </tr>\n",
              "    <tr>\n",
              "      <th>15502</th>\n",
              "      <td>Zimbabwe</td>\n",
              "      <td>ZWE</td>\n",
              "      <td>2021-05-02</td>\n",
              "      <td>524199.0</td>\n",
              "      <td>430068.0</td>\n",
              "      <td>94131.0</td>\n",
              "      <td>3900.0</td>\n",
              "      <td>19169.0</td>\n",
              "      <td>3.53</td>\n",
              "      <td>2.89</td>\n",
              "      <td>0.63</td>\n",
              "      <td>1290.0</td>\n",
              "      <td>Sinopharm/Beijing</td>\n",
              "      <td>Ministry of Health</td>\n",
              "      <td>https://twitter.com/MoHCCZim/status/1389675251...</td>\n",
              "    </tr>\n",
              "    <tr>\n",
              "      <th>15503</th>\n",
              "      <td>Zimbabwe</td>\n",
              "      <td>ZWE</td>\n",
              "      <td>2021-05-03</td>\n",
              "      <td>537516.0</td>\n",
              "      <td>437751.0</td>\n",
              "      <td>99765.0</td>\n",
              "      <td>13317.0</td>\n",
              "      <td>17987.0</td>\n",
              "      <td>3.62</td>\n",
              "      <td>2.95</td>\n",
              "      <td>0.67</td>\n",
              "      <td>1210.0</td>\n",
              "      <td>Sinopharm/Beijing</td>\n",
              "      <td>Ministry of Health</td>\n",
              "      <td>https://twitter.com/MoHCCZim/status/1389675251...</td>\n",
              "    </tr>\n",
              "    <tr>\n",
              "      <th>15504</th>\n",
              "      <td>Zimbabwe</td>\n",
              "      <td>ZWE</td>\n",
              "      <td>2021-05-04</td>\n",
              "      <td>559777.0</td>\n",
              "      <td>452191.0</td>\n",
              "      <td>107586.0</td>\n",
              "      <td>22261.0</td>\n",
              "      <td>17977.0</td>\n",
              "      <td>3.77</td>\n",
              "      <td>3.04</td>\n",
              "      <td>0.72</td>\n",
              "      <td>1210.0</td>\n",
              "      <td>Sinopharm/Beijing</td>\n",
              "      <td>Ministry of Health</td>\n",
              "      <td>https://twitter.com/MoHCCZim/status/1389675251...</td>\n",
              "    </tr>\n",
              "  </tbody>\n",
              "</table>\n",
              "<p>15505 rows × 15 columns</p>\n",
              "</div>\n",
              "      <button class=\"colab-df-convert\" onclick=\"convertToInteractive('df-3d1cc262-1d20-4d61-9e13-c44810852b25')\"\n",
              "              title=\"Convert this dataframe to an interactive table.\"\n",
              "              style=\"display:none;\">\n",
              "        \n",
              "  <svg xmlns=\"http://www.w3.org/2000/svg\" height=\"24px\"viewBox=\"0 0 24 24\"\n",
              "       width=\"24px\">\n",
              "    <path d=\"M0 0h24v24H0V0z\" fill=\"none\"/>\n",
              "    <path d=\"M18.56 5.44l.94 2.06.94-2.06 2.06-.94-2.06-.94-.94-2.06-.94 2.06-2.06.94zm-11 1L8.5 8.5l.94-2.06 2.06-.94-2.06-.94L8.5 2.5l-.94 2.06-2.06.94zm10 10l.94 2.06.94-2.06 2.06-.94-2.06-.94-.94-2.06-.94 2.06-2.06.94z\"/><path d=\"M17.41 7.96l-1.37-1.37c-.4-.4-.92-.59-1.43-.59-.52 0-1.04.2-1.43.59L10.3 9.45l-7.72 7.72c-.78.78-.78 2.05 0 2.83L4 21.41c.39.39.9.59 1.41.59.51 0 1.02-.2 1.41-.59l7.78-7.78 2.81-2.81c.8-.78.8-2.07 0-2.86zM5.41 20L4 18.59l7.72-7.72 1.47 1.35L5.41 20z\"/>\n",
              "  </svg>\n",
              "      </button>\n",
              "      \n",
              "  <style>\n",
              "    .colab-df-container {\n",
              "      display:flex;\n",
              "      flex-wrap:wrap;\n",
              "      gap: 12px;\n",
              "    }\n",
              "\n",
              "    .colab-df-convert {\n",
              "      background-color: #E8F0FE;\n",
              "      border: none;\n",
              "      border-radius: 50%;\n",
              "      cursor: pointer;\n",
              "      display: none;\n",
              "      fill: #1967D2;\n",
              "      height: 32px;\n",
              "      padding: 0 0 0 0;\n",
              "      width: 32px;\n",
              "    }\n",
              "\n",
              "    .colab-df-convert:hover {\n",
              "      background-color: #E2EBFA;\n",
              "      box-shadow: 0px 1px 2px rgba(60, 64, 67, 0.3), 0px 1px 3px 1px rgba(60, 64, 67, 0.15);\n",
              "      fill: #174EA6;\n",
              "    }\n",
              "\n",
              "    [theme=dark] .colab-df-convert {\n",
              "      background-color: #3B4455;\n",
              "      fill: #D2E3FC;\n",
              "    }\n",
              "\n",
              "    [theme=dark] .colab-df-convert:hover {\n",
              "      background-color: #434B5C;\n",
              "      box-shadow: 0px 1px 3px 1px rgba(0, 0, 0, 0.15);\n",
              "      filter: drop-shadow(0px 1px 2px rgba(0, 0, 0, 0.3));\n",
              "      fill: #FFFFFF;\n",
              "    }\n",
              "  </style>\n",
              "\n",
              "      <script>\n",
              "        const buttonEl =\n",
              "          document.querySelector('#df-3d1cc262-1d20-4d61-9e13-c44810852b25 button.colab-df-convert');\n",
              "        buttonEl.style.display =\n",
              "          google.colab.kernel.accessAllowed ? 'block' : 'none';\n",
              "\n",
              "        async function convertToInteractive(key) {\n",
              "          const element = document.querySelector('#df-3d1cc262-1d20-4d61-9e13-c44810852b25');\n",
              "          const dataTable =\n",
              "            await google.colab.kernel.invokeFunction('convertToInteractive',\n",
              "                                                     [key], {});\n",
              "          if (!dataTable) return;\n",
              "\n",
              "          const docLinkHtml = 'Like what you see? Visit the ' +\n",
              "            '<a target=\"_blank\" href=https://colab.research.google.com/notebooks/data_table.ipynb>data table notebook</a>'\n",
              "            + ' to learn more about interactive tables.';\n",
              "          element.innerHTML = '';\n",
              "          dataTable['output_type'] = 'display_data';\n",
              "          await google.colab.output.renderOutput(dataTable, element);\n",
              "          const docLink = document.createElement('div');\n",
              "          docLink.innerHTML = docLinkHtml;\n",
              "          element.appendChild(docLink);\n",
              "        }\n",
              "      </script>\n",
              "    </div>\n",
              "  </div>\n",
              "  "
            ]
          },
          "metadata": {},
          "execution_count": 21
        }
      ]
    },
    {
      "cell_type": "markdown",
      "source": [
        "Q1. Total number of people vaccinated in Argentina"
      ],
      "metadata": {
        "id": "-b4UwG8IgGLg"
      }
    },
    {
      "cell_type": "code",
      "source": [
        "people_vaccine = df[df.country== 'Argentina']['people_vaccinated'].sum()"
      ],
      "metadata": {
        "id": "LunJFFQawChK"
      },
      "execution_count": 108,
      "outputs": []
    },
    {
      "cell_type": "code",
      "source": [
        "people_vaccine"
      ],
      "metadata": {
        "colab": {
          "base_uri": "https://localhost:8080/"
        },
        "id": "dDJhUFckwDJj",
        "outputId": "6488aede-8909-4b0b-f771-b6cc15700f79"
      },
      "execution_count": 109,
      "outputs": [
        {
          "output_type": "execute_result",
          "data": {
            "text/plain": [
              "262845773.0"
            ]
          },
          "metadata": {},
          "execution_count": 109
        }
      ]
    },
    {
      "cell_type": "markdown",
      "source": [
        "Q2. Total number of countries in this dataset\n"
      ],
      "metadata": {
        "id": "OwXrBtbYgJSP"
      }
    },
    {
      "cell_type": "code",
      "source": [
        "len(df['country'].unique())"
      ],
      "metadata": {
        "colab": {
          "base_uri": "https://localhost:8080/"
        },
        "id": "ugIMi7KLwKMi",
        "outputId": "c57212d2-4b75-49ae-b95d-bf8ba60b37f5"
      },
      "execution_count": 65,
      "outputs": [
        {
          "output_type": "execute_result",
          "data": {
            "text/plain": [
              "195"
            ]
          },
          "metadata": {},
          "execution_count": 65
        }
      ]
    },
    {
      "cell_type": "markdown",
      "source": [
        "Q3. Maximum number of people vaccinated in a country\n"
      ],
      "metadata": {
        "id": "sfEUHuypgJQj"
      }
    },
    {
      "cell_type": "code",
      "source": [
        "top_total_vaccine = df.groupby(['country'])['people_vaccinated'].sum().sort_values(ascending = False).head(1)"
      ],
      "metadata": {
        "id": "Yp5GnUzmwfPe"
      },
      "execution_count": 112,
      "outputs": []
    },
    {
      "cell_type": "code",
      "source": [
        "top_total_vaccine"
      ],
      "metadata": {
        "colab": {
          "base_uri": "https://localhost:8080/"
        },
        "id": "HPGP357pxMae",
        "outputId": "9c3eb6f1-0263-4a99-8fc9-7ff9d54efccb"
      },
      "execution_count": 113,
      "outputs": [
        {
          "output_type": "execute_result",
          "data": {
            "text/plain": [
              "country\n",
              "United States    8.097573e+09\n",
              "Name: people_vaccinated, dtype: float64"
            ]
          },
          "metadata": {},
          "execution_count": 113
        }
      ]
    },
    {
      "cell_type": "markdown",
      "source": [
        "Q4. Top 5 Countries in terms of number of people vaccinated\n"
      ],
      "metadata": {
        "id": "xIYUiiKlgJN-"
      }
    },
    {
      "cell_type": "code",
      "source": [
        "top_total_vaccine = df.groupby(['country'])['people_vaccinated'].sum().sort_values(ascending = False).head(5)"
      ],
      "metadata": {
        "id": "1uafGUB4xW5_"
      },
      "execution_count": 110,
      "outputs": []
    },
    {
      "cell_type": "code",
      "source": [
        "top_total_vaccine"
      ],
      "metadata": {
        "colab": {
          "base_uri": "https://localhost:8080/"
        },
        "id": "_QXycPzYxbNB",
        "outputId": "76e4163f-40a7-4f2f-e5fd-f3fdbd8e21a9"
      },
      "execution_count": 111,
      "outputs": [
        {
          "output_type": "execute_result",
          "data": {
            "text/plain": [
              "country\n",
              "United States     8.097573e+09\n",
              "India             4.475130e+09\n",
              "United Kingdom    2.464051e+09\n",
              "England           2.084811e+09\n",
              "Brazil            1.156937e+09\n",
              "Name: people_vaccinated, dtype: float64"
            ]
          },
          "metadata": {},
          "execution_count": 111
        }
      ]
    },
    {
      "cell_type": "markdown",
      "source": [
        "Q5. Second largest number of people Daily Vaccinated in which country\n"
      ],
      "metadata": {
        "id": "0n0FjQhlgJLq"
      }
    },
    {
      "cell_type": "code",
      "source": [
        "top_total_vaccine = df.groupby(['country'])['daily_vaccinations'].sum().sort_values(ascending = False).head(2)"
      ],
      "metadata": {
        "id": "HCKyKbs6xfSF"
      },
      "execution_count": 114,
      "outputs": []
    },
    {
      "cell_type": "code",
      "source": [
        "top_total_vaccine"
      ],
      "metadata": {
        "colab": {
          "base_uri": "https://localhost:8080/"
        },
        "id": "6YHOVysSxfJo",
        "outputId": "ab755d6a-8236-457a-8b9f-0700da022eb7"
      },
      "execution_count": 115,
      "outputs": [
        {
          "output_type": "execute_result",
          "data": {
            "text/plain": [
              "country\n",
              "China            273119359.0\n",
              "United States    244231380.0\n",
              "Name: daily_vaccinations, dtype: float64"
            ]
          },
          "metadata": {},
          "execution_count": 115
        }
      ]
    },
    {
      "cell_type": "markdown",
      "source": [
        "Q6. Top 5 countries in terms of People fully vaccinated per hundred\n"
      ],
      "metadata": {
        "id": "-Oz6Qng-gJJK"
      }
    },
    {
      "cell_type": "code",
      "source": [
        "top_total_vaccine = df.groupby(['country'])['people_fully_vaccinated'].sum().sort_values(ascending = False).head(5)"
      ],
      "metadata": {
        "id": "7AC3w_Emx5xK"
      },
      "execution_count": 116,
      "outputs": []
    },
    {
      "cell_type": "code",
      "source": [
        "top_total_vaccine"
      ],
      "metadata": {
        "colab": {
          "base_uri": "https://localhost:8080/"
        },
        "id": "Zxy5re7Qx6Fk",
        "outputId": "76a3cc57-8da7-42b6-d4cf-ff70a52ffacd"
      },
      "execution_count": 117,
      "outputs": [
        {
          "output_type": "execute_result",
          "data": {
            "text/plain": [
              "country\n",
              "United States     4.552067e+09\n",
              "India             7.766939e+08\n",
              "United Kingdom    4.354836e+08\n",
              "Turkey            4.173307e+08\n",
              "Israel            3.979434e+08\n",
              "Name: people_fully_vaccinated, dtype: float64"
            ]
          },
          "metadata": {},
          "execution_count": 117
        }
      ]
    },
    {
      "cell_type": "markdown",
      "source": [
        "Q7. What percent of population is fully vaccinated in Gibraltar?\n"
      ],
      "metadata": {
        "id": "4Ss1OAJhgJGT"
      }
    },
    {
      "cell_type": "code",
      "source": [
        "people_fully_vaccine = df[df.country== 'Gibraltar']['people_fully_vaccinated'].sum()\n",
        "people_vacc = df[df.country== 'Gibraltar']['total_vaccinations'].sum()\n"
      ],
      "metadata": {
        "id": "q-b6dS-pyNX5"
      },
      "execution_count": 129,
      "outputs": []
    },
    {
      "cell_type": "code",
      "source": [
        "(people_fully_vaccine/people_vacc)*100"
      ],
      "metadata": {
        "colab": {
          "base_uri": "https://localhost:8080/"
        },
        "id": "Xf9yv6C-0A-5",
        "outputId": "217ed841-1609-4895-d2f3-e09692b2180a"
      },
      "execution_count": 130,
      "outputs": [
        {
          "output_type": "execute_result",
          "data": {
            "text/plain": [
              "39.40222639289416"
            ]
          },
          "metadata": {},
          "execution_count": 130
        }
      ]
    },
    {
      "cell_type": "markdown",
      "source": [
        "Q8. What percent of population is fully vaccinated in Gibraltar?\n"
      ],
      "metadata": {
        "id": "ccqVe-fbgJCe"
      }
    },
    {
      "cell_type": "code",
      "source": [
        "people_fully_vaccine = df[df.country== 'Gibraltar']['people_fully_vaccinated'].sum()\n",
        "people_vacc = df[df.country== 'Gibraltar']['total_vaccinations'].sum()\n"
      ],
      "metadata": {
        "id": "j1lULpQ7gCf4"
      },
      "execution_count": 131,
      "outputs": []
    },
    {
      "cell_type": "code",
      "source": [
        "(people_fully_vaccine/people_vacc)*100"
      ],
      "metadata": {
        "colab": {
          "base_uri": "https://localhost:8080/"
        },
        "id": "-gJCsmNv0gka",
        "outputId": "17b55be2-812d-447e-965b-6f61698869d4"
      },
      "execution_count": 132,
      "outputs": [
        {
          "output_type": "execute_result",
          "data": {
            "text/plain": [
              "39.40222639289416"
            ]
          },
          "metadata": {},
          "execution_count": 132
        }
      ]
    }
  ]
}